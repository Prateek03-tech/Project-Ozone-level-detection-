{
 "cells": [
  {
   "cell_type": "markdown",
   "id": "f3a1e628",
   "metadata": {},
   "source": [
    "# Ozone Layer Detection"
   ]
  },
  {
   "cell_type": "markdown",
   "id": "7a419c01",
   "metadata": {},
   "source": [
    "The data collection process is done using https://archive.ics.uci.edu/ml/machine-learning-databases/ozone/"
   ]
  },
  {
   "cell_type": "markdown",
   "id": "e097baab",
   "metadata": {},
   "source": [
    "The Algorithms we will be using are\n",
    "\n",
    "Support Vector Machine\n",
    "\n",
    "K-Nearest Neighbour\n",
    "\n",
    "Multilayer Perceptron Feed-Forward Network"
   ]
  },
  {
   "cell_type": "markdown",
   "id": "863561ab",
   "metadata": {},
   "source": [
    "## Data Collection and Imports"
   ]
  },
  {
   "cell_type": "code",
   "execution_count": null,
   "id": "5a16cd6f",
   "metadata": {},
   "outputs": [],
   "source": []
  }
 ],
 "metadata": {
  "kernelspec": {
   "display_name": "Python 3",
   "language": "python",
   "name": "python3"
  },
  "language_info": {
   "codemirror_mode": {
    "name": "ipython",
    "version": 3
   },
   "file_extension": ".py",
   "mimetype": "text/x-python",
   "name": "python",
   "nbconvert_exporter": "python",
   "pygments_lexer": "ipython3",
   "version": "3.8.8"
  }
 },
 "nbformat": 4,
 "nbformat_minor": 5
}
